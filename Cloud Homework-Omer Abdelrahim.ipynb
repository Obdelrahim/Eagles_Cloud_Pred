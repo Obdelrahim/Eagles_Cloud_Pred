{
 "cells": [
  {
   "cell_type": "markdown",
   "id": "50b42fc2",
   "metadata": {},
   "source": [
    "# Project 1.) First Cloud Function"
   ]
  },
  {
   "cell_type": "markdown",
   "id": "e047b110",
   "metadata": {},
   "source": [
    "### Description : Post a cloud function that takes in a string of numbers and returns a json file that contains the the sum of all of the single digit numbers"
   ]
  },
  {
   "cell_type": "markdown",
   "id": "187f1ddd",
   "metadata": {},
   "source": [
    "#### Example : input =\"12345\"\n",
    "#### output = 1+2+3+4+5 = 15\n",
    "#### returns({\"answer\":15})"
   ]
  },
  {
   "cell_type": "code",
   "execution_count": 100,
   "id": "7591a6e4",
   "metadata": {},
   "outputs": [],
   "source": [
    "import json, session_info, requests\n",
    "import pandas as pd \n",
    "import numpy as np"
   ]
  },
  {
   "cell_type": "code",
   "execution_count": 282,
   "id": "d1187357",
   "metadata": {},
   "outputs": [],
   "source": [
    "def num_add(request):\n",
    "    try:\n",
    "        request_json = request.get_json()\n",
    "        numbers_string = request_json.get('numbers_string', '')\n",
    "\n",
    "        single_digits = [int(char) for char in numbers_string if char.isdigit() and int(char) < 10]\n",
    "        total_sum = sum(single_digits)\n",
    "        \n",
    "        return json.dumps(total_sum), 200\n",
    "    \n",
    "    except Exception as e:\n",
    "        return json.dumps({'error': str(e)}), 400"
   ]
  },
  {
   "cell_type": "code",
   "execution_count": 283,
   "id": "3082499c",
   "metadata": {},
   "outputs": [
    {
     "name": "stdout",
     "output_type": "stream",
     "text": [
      "Enter a string of numbers: 112\n",
      "Summation: 4\n"
     ]
    }
   ],
   "source": [
    "url = \"https://us-west2-spring2024project-424621.cloudfunctions.net/num-add\"\n",
    "\n",
    "numbers_string = input(\"Enter a string of numbers: \")\n",
    "\n",
    "data = {\n",
    "    \"numbers_string\": numbers_string\n",
    "}\n",
    "\n",
    "headers = {'Content-Type': 'application/json'}\n",
    "r = requests.post(url, headers=headers, json=data)\n",
    "\n",
    "print(f\"Summation: {r.text}\")"
   ]
  },
  {
   "cell_type": "code",
   "execution_count": 284,
   "id": "648bedb9",
   "metadata": {},
   "outputs": [],
   "source": [
    "def sum_func_output():\n",
    "    url = \"https://us-west2-spring2024project-424621.cloudfunctions.net/num-add\"\n",
    "    \n",
    "    numbers_string = input(\"Enter a string of numbers: \")\n",
    "    \n",
    "    data = {\n",
    "        \"numbers_string\": numbers_string\n",
    "    }\n",
    "\n",
    "    headers = {'Content-Type': 'application/json'}\n",
    "    r = requests.post(url, headers=headers, json=data)\n",
    "\n",
    "    return print(f\"Summation: {r.text}\")"
   ]
  },
  {
   "cell_type": "markdown",
   "id": "419394c4",
   "metadata": {},
   "source": [
    "## 1.b.) Query your cloud function using requests for example input \"012937\", \"2\" and \"9999999999999\""
   ]
  },
  {
   "cell_type": "code",
   "execution_count": 285,
   "id": "a43a0ca3",
   "metadata": {},
   "outputs": [
    {
     "name": "stdout",
     "output_type": "stream",
     "text": [
      "Enter a string of numbers: 012937\n",
      "Summation: 22\n"
     ]
    }
   ],
   "source": [
    "sum_func_output()"
   ]
  },
  {
   "cell_type": "code",
   "execution_count": 286,
   "id": "2f96ea6f",
   "metadata": {},
   "outputs": [
    {
     "name": "stdout",
     "output_type": "stream",
     "text": [
      "Enter a string of numbers: 2\n",
      "Summation: 2\n"
     ]
    }
   ],
   "source": [
    "sum_func_output()"
   ]
  },
  {
   "cell_type": "code",
   "execution_count": 288,
   "id": "22733f55",
   "metadata": {},
   "outputs": [
    {
     "name": "stdout",
     "output_type": "stream",
     "text": [
      "Enter a string of numbers: 9999999999999\n",
      "Summation: 117\n"
     ]
    }
   ],
   "source": [
    "sum_func_output()"
   ]
  },
  {
   "cell_type": "markdown",
   "id": "93a38f37-f894-41d1-b072-0be55dacc7a7",
   "metadata": {},
   "source": [
    "# 1.c.) Add srborghese@g.ucla.edu to your cloud project via IAM."
   ]
  },
  {
   "cell_type": "markdown",
   "id": "8996b58d",
   "metadata": {},
   "source": [
    "Added as a viewer"
   ]
  },
  {
   "cell_type": "markdown",
   "id": "97a4a8bd",
   "metadata": {},
   "source": [
    "# Project 2.) Automated Webscraping"
   ]
  },
  {
   "cell_type": "markdown",
   "id": "d1d15867",
   "metadata": {},
   "source": [
    "### Description : Find a website that is scrapable with Beautiful soup that updates with some frequency. Build a cloud function to programatically scrape the useful content"
   ]
  },
  {
   "cell_type": "code",
   "execution_count": 8,
   "id": "54324bc0",
   "metadata": {},
   "outputs": [],
   "source": [
    "from bs4 import BeautifulSoup\n",
    "import re\n",
    "import string\n",
    "import google\n",
    "from google.cloud import storage\n",
    "import os\n",
    "from io import StringIO\n",
    "from datetime import datetime"
   ]
  },
  {
   "cell_type": "code",
   "execution_count": 9,
   "id": "e7e4811f",
   "metadata": {},
   "outputs": [],
   "source": [
    "#https://us-west2-spring2024project-424621.cloudfunctions.net/PullingReference"
   ]
  },
  {
   "cell_type": "code",
   "execution_count": 10,
   "id": "0fda09e1",
   "metadata": {},
   "outputs": [],
   "source": [
    "bucket_name='phils2024batting'\n",
    "os.environ['GOOGLE_APPLICATION_CREDENTIALS'] = r\"E:\\Downloads\\Google Cloud Project\\Credentials.json\"\n",
    "client = storage.Client()\n",
    "bucket = client.get_bucket(bucket_name)\n",
    "blob = bucket.blob(\"webscrape/Phils_Batting_2024.csv\")\n",
    "blob.upload_from_filename(r\"E:\\Downloads\\Google Cloud Project\\Phils_Batting_2024.csv\")"
   ]
  },
  {
   "cell_type": "code",
   "execution_count": 11,
   "id": "c0bb7ed2",
   "metadata": {},
   "outputs": [],
   "source": [
    "URL = \"https://www.baseball-reference.com/teams/PHI/\"\n",
    "base = \"https://www.baseball-reference.com\"\n",
    "page = requests.get(URL)\n",
    "soup = BeautifulSoup(page.content, \"html.parser\")\n",
    "\n",
    "pattern = re.compile(r\"/teams/PHI/\\d{4}.shtml\")\n",
    "\n",
    "links = soup.find_all(\"a\", href=True)\n",
    "\n",
    "unique_links = set()\n",
    "\n",
    "for link in links:\n",
    "    href = link.get(\"href\")\n",
    "    if pattern.match(href):\n",
    "        new_href = base + href\n",
    "        unique_links.add(new_href)\n",
    "\n",
    "unique_links = sorted(unique_links)\n",
    "\n",
    "#for link in unique_links:\n",
    "    #print(link)\n",
    "\n",
    "target_link = None\n",
    "for link in unique_links:\n",
    "    if \"2024.shtml\" in link:\n",
    "        target_link = link\n",
    "        break\n",
    "\n",
    "if target_link:\n",
    "    target_page = requests.get(target_link)\n",
    "    target_soup = BeautifulSoup(target_page.content, \"html.parser\")\n",
    "    batting_table = target_soup.find(\"table\", {\"id\": \"team_batting\"})\n",
    "\n",
    "    if batting_table:\n",
    "        df = pd.read_html(str(batting_table))[0]\n",
    "        #print(df)\n",
    "    else:\n",
    "        print(\"Batting table not found.\")\n",
    "else:\n",
    "    print(\"2024 link not found\")"
   ]
  },
  {
   "cell_type": "code",
   "execution_count": 12,
   "id": "07a4c1ad",
   "metadata": {},
   "outputs": [],
   "source": [
    "def batting_table_pull():\n",
    "    URL = \"https://www.baseball-reference.com/teams/PHI/\"\n",
    "    base = \"https://www.baseball-reference.com\"\n",
    "    page = requests.get(URL)\n",
    "    soup = BeautifulSoup(page.content, \"html.parser\")\n",
    "\n",
    "    pattern = re.compile(r\"/teams/PHI/\\d{4}.shtml\")\n",
    "\n",
    "    links = soup.find_all(\"a\", href=True)\n",
    "\n",
    "    unique_links = set()\n",
    "\n",
    "    for link in links:\n",
    "        href = link.get(\"href\")\n",
    "        if pattern.match(href):\n",
    "            new_href = base + href\n",
    "            unique_links.add(new_href)\n",
    "\n",
    "    unique_links = sorted(unique_links)\n",
    "\n",
    "    target_link = None\n",
    "    for link in unique_links:\n",
    "        if \"2024.shtml\" in link:\n",
    "            target_link = link\n",
    "            break\n",
    "\n",
    "    if target_link:\n",
    "        target_page = requests.get(target_link)\n",
    "        target_soup = BeautifulSoup(target_page.content, \"html.parser\")\n",
    "        batting_table = target_soup.find(\"table\", {\"id\": \"team_batting\"})\n",
    "\n",
    "        if batting_table:\n",
    "            df = pd.read_html(str(batting_table))[0]\n",
    "            current_date = datetime.now().strftime(\"%Y-%m-%d\")\n",
    "            df[\"Date\"] = current_date\n",
    "        else:\n",
    "            print(\"Batting table not found.\")\n",
    "    else:\n",
    "        print(\"2024 link not found\")\n",
    "    return(df)"
   ]
  },
  {
   "cell_type": "code",
   "execution_count": 13,
   "id": "41c17e9f",
   "metadata": {},
   "outputs": [],
   "source": [
    "def download_data():\n",
    "    \n",
    "    os.environ['GOOGLE_APPLICATION_CREDENTIALS'] = r\"E:\\Downloads\\Google Cloud Project\\Credentials.json\"\n",
    "    client = storage.Client()\n",
    "    bucket_name='phils2024batting'\n",
    "    blob = bucket.blob(\"webscrape/Phils_Batting_2024.csv\")\n",
    "    \n",
    "    df = pd.read_csv(StringIO(blob.download_as_text()))\n",
    "\n",
    "    return(df)"
   ]
  },
  {
   "cell_type": "code",
   "execution_count": 14,
   "id": "b6a43549",
   "metadata": {},
   "outputs": [],
   "source": [
    "def post_data(request):\n",
    "    old_data = download_data()\n",
    "\n",
    "    new_data = batting_table_pull()\n",
    "\n",
    "    df = pd.concat([old_data, new_data])\n",
    "\n",
    "    os.environ['GOOGLE_APPLICATION_CREDENTIALS'] = r\"E:\\Downloads\\Google Cloud Project\\Credentials.json\"\n",
    "    client = storage.Client()\n",
    "    bucket_name='phils2024batting'\n",
    "    blob = bucket.blob(\"webscrape/Phils_Batting_2024.csv\")\n",
    "\n",
    "    df_string = df.to_csv()\n",
    "    blob.upload_from_string(df_string)\n",
    "\n",
    "    return({\"request\" : 200,\n",
    "            \"length_data\" : len(df)})"
   ]
  },
  {
   "cell_type": "markdown",
   "id": "504f3088",
   "metadata": {},
   "source": [
    "## 2.b.) Query your stored files"
   ]
  },
  {
   "cell_type": "code",
   "execution_count": 22,
   "id": "9b0ef981",
   "metadata": {},
   "outputs": [
    {
     "name": "stdout",
     "output_type": "stream",
     "text": [
      "Success:\n",
      "{'length_data': 478, 'request': 200}\n"
     ]
    }
   ],
   "source": [
    "url = 'https://us-west2-spring2024project-424621.cloudfunctions.net/Pull2'\n",
    "response = requests.post(url)\n",
    "if response.status_code == 200:\n",
    "    print(\"Success:\")\n",
    "    print(response.json())\n",
    "else:\n",
    "    print(f\"Failed with status code {response.status_code}:\")\n",
    "    print(response.text)"
   ]
  },
  {
   "cell_type": "markdown",
   "id": "368798b0",
   "metadata": {},
   "source": [
    "## 2.c.) State how this could be useful in a business setting"
   ]
  },
  {
   "cell_type": "markdown",
   "id": "c2d43822",
   "metadata": {},
   "source": [
    "It's an automated way to pull and look at differences over time without having to pay for stathead to view day by day statistics of ball players in order to view how they've been playing over stretches of time. That's why its been setup to update everyday with the date column in order to differentiate weeks, months days and so on. It could be very useful as a less costly but more time consuming alternative for smaller sports journalists, although I do imagine most large publications have their own teams with their own propietary software that can scour all types of sports related statistics. This is just one example of what they can do with a little help from the reference websites and maybe it can be a standalone service that allows individuals to easily pull certain days without having to get a stathead subscription. "
   ]
  },
  {
   "cell_type": "markdown",
   "id": "0ad1706f",
   "metadata": {},
   "source": [
    "# Project 3.) "
   ]
  },
  {
   "cell_type": "markdown",
   "id": "ad99a208",
   "metadata": {},
   "source": [
    "### Description : Build some machine learning model using scikit learn and make it queriable using cloud functions"
   ]
  },
  {
   "cell_type": "code",
   "execution_count": 183,
   "id": "2046708e",
   "metadata": {},
   "outputs": [],
   "source": [
    "from sklearn.neural_network import MLPClassifier\n",
    "from sklearn.datasets import load_iris\n",
    "from sklearn.model_selection import train_test_split\n",
    "from sklearn.preprocessing import StandardScaler\n",
    "from sklearn.metrics import accuracy_score\n",
    "import joblib\n",
    "from io import BytesIO "
   ]
  },
  {
   "cell_type": "code",
   "execution_count": 184,
   "id": "157c5fac",
   "metadata": {},
   "outputs": [],
   "source": [
    "birds=pd.read_csv(\"Eagles_10yr.csv\")\n",
    "birds=birds.drop(['Unnamed: 0'], axis=1)"
   ]
  },
  {
   "cell_type": "code",
   "execution_count": 185,
   "id": "be7de8f2",
   "metadata": {},
   "outputs": [],
   "source": [
    "X=birds[['MOT', 'OTotYd', 'DTotYd', 'TmScore','Home_Games']]\n",
    "y=birds['Win']"
   ]
  },
  {
   "cell_type": "code",
   "execution_count": 186,
   "id": "81f95a4d",
   "metadata": {},
   "outputs": [
    {
     "data": {
      "text/html": [
       "<style>#sk-container-id-9 {color: black;background-color: white;}#sk-container-id-9 pre{padding: 0;}#sk-container-id-9 div.sk-toggleable {background-color: white;}#sk-container-id-9 label.sk-toggleable__label {cursor: pointer;display: block;width: 100%;margin-bottom: 0;padding: 0.3em;box-sizing: border-box;text-align: center;}#sk-container-id-9 label.sk-toggleable__label-arrow:before {content: \"▸\";float: left;margin-right: 0.25em;color: #696969;}#sk-container-id-9 label.sk-toggleable__label-arrow:hover:before {color: black;}#sk-container-id-9 div.sk-estimator:hover label.sk-toggleable__label-arrow:before {color: black;}#sk-container-id-9 div.sk-toggleable__content {max-height: 0;max-width: 0;overflow: hidden;text-align: left;background-color: #f0f8ff;}#sk-container-id-9 div.sk-toggleable__content pre {margin: 0.2em;color: black;border-radius: 0.25em;background-color: #f0f8ff;}#sk-container-id-9 input.sk-toggleable__control:checked~div.sk-toggleable__content {max-height: 200px;max-width: 100%;overflow: auto;}#sk-container-id-9 input.sk-toggleable__control:checked~label.sk-toggleable__label-arrow:before {content: \"▾\";}#sk-container-id-9 div.sk-estimator input.sk-toggleable__control:checked~label.sk-toggleable__label {background-color: #d4ebff;}#sk-container-id-9 div.sk-label input.sk-toggleable__control:checked~label.sk-toggleable__label {background-color: #d4ebff;}#sk-container-id-9 input.sk-hidden--visually {border: 0;clip: rect(1px 1px 1px 1px);clip: rect(1px, 1px, 1px, 1px);height: 1px;margin: -1px;overflow: hidden;padding: 0;position: absolute;width: 1px;}#sk-container-id-9 div.sk-estimator {font-family: monospace;background-color: #f0f8ff;border: 1px dotted black;border-radius: 0.25em;box-sizing: border-box;margin-bottom: 0.5em;}#sk-container-id-9 div.sk-estimator:hover {background-color: #d4ebff;}#sk-container-id-9 div.sk-parallel-item::after {content: \"\";width: 100%;border-bottom: 1px solid gray;flex-grow: 1;}#sk-container-id-9 div.sk-label:hover label.sk-toggleable__label {background-color: #d4ebff;}#sk-container-id-9 div.sk-serial::before {content: \"\";position: absolute;border-left: 1px solid gray;box-sizing: border-box;top: 0;bottom: 0;left: 50%;z-index: 0;}#sk-container-id-9 div.sk-serial {display: flex;flex-direction: column;align-items: center;background-color: white;padding-right: 0.2em;padding-left: 0.2em;position: relative;}#sk-container-id-9 div.sk-item {position: relative;z-index: 1;}#sk-container-id-9 div.sk-parallel {display: flex;align-items: stretch;justify-content: center;background-color: white;position: relative;}#sk-container-id-9 div.sk-item::before, #sk-container-id-9 div.sk-parallel-item::before {content: \"\";position: absolute;border-left: 1px solid gray;box-sizing: border-box;top: 0;bottom: 0;left: 50%;z-index: -1;}#sk-container-id-9 div.sk-parallel-item {display: flex;flex-direction: column;z-index: 1;position: relative;background-color: white;}#sk-container-id-9 div.sk-parallel-item:first-child::after {align-self: flex-end;width: 50%;}#sk-container-id-9 div.sk-parallel-item:last-child::after {align-self: flex-start;width: 50%;}#sk-container-id-9 div.sk-parallel-item:only-child::after {width: 0;}#sk-container-id-9 div.sk-dashed-wrapped {border: 1px dashed gray;margin: 0 0.4em 0.5em 0.4em;box-sizing: border-box;padding-bottom: 0.4em;background-color: white;}#sk-container-id-9 div.sk-label label {font-family: monospace;font-weight: bold;display: inline-block;line-height: 1.2em;}#sk-container-id-9 div.sk-label-container {text-align: center;}#sk-container-id-9 div.sk-container {/* jupyter's `normalize.less` sets `[hidden] { display: none; }` but bootstrap.min.css set `[hidden] { display: none !important; }` so we also need the `!important` here to be able to override the default hidden behavior on the sphinx rendered scikit-learn.org. See: https://github.com/scikit-learn/scikit-learn/issues/21755 */display: inline-block !important;position: relative;}#sk-container-id-9 div.sk-text-repr-fallback {display: none;}</style><div id=\"sk-container-id-9\" class=\"sk-top-container\"><div class=\"sk-text-repr-fallback\"><pre>MLPClassifier(hidden_layer_sizes=(10, 100, 100), max_iter=1000, random_state=42)</pre><b>In a Jupyter environment, please rerun this cell to show the HTML representation or trust the notebook. <br />On GitHub, the HTML representation is unable to render, please try loading this page with nbviewer.org.</b></div><div class=\"sk-container\" hidden><div class=\"sk-item\"><div class=\"sk-estimator sk-toggleable\"><input class=\"sk-toggleable__control sk-hidden--visually\" id=\"sk-estimator-id-9\" type=\"checkbox\" checked><label for=\"sk-estimator-id-9\" class=\"sk-toggleable__label sk-toggleable__label-arrow\">MLPClassifier</label><div class=\"sk-toggleable__content\"><pre>MLPClassifier(hidden_layer_sizes=(10, 100, 100), max_iter=1000, random_state=42)</pre></div></div></div></div></div>"
      ],
      "text/plain": [
       "MLPClassifier(hidden_layer_sizes=(10, 100, 100), max_iter=1000, random_state=42)"
      ]
     },
     "execution_count": 186,
     "metadata": {},
     "output_type": "execute_result"
    }
   ],
   "source": [
    "scaler = StandardScaler()\n",
    "X = scaler.fit_transform(X)\n",
    "X_train, X_test, y_train, y_test = train_test_split(X, y, test_size=0.2, random_state=25)\n",
    "clf = MLPClassifier(hidden_layer_sizes=(10,100,100,), max_iter=1000, random_state=42)\n",
    "clf.fit(X_train,y_train)"
   ]
  },
  {
   "cell_type": "code",
   "execution_count": 189,
   "id": "bd02438a",
   "metadata": {},
   "outputs": [
    {
     "data": {
      "text/plain": [
       "['E:\\\\Downloads\\\\Google Cloud Project\\\\scaler.sav']"
      ]
     },
     "execution_count": 189,
     "metadata": {},
     "output_type": "execute_result"
    }
   ],
   "source": [
    "joblib.dump(clf, r\"E:\\Downloads\\Google Cloud Project\\NN.sav\")\n",
    "joblib.dump(scaler, r\"E:\\Downloads\\Google Cloud Project\\scaler.sav\")"
   ]
  },
  {
   "cell_type": "code",
   "execution_count": 191,
   "id": "969a89ad",
   "metadata": {},
   "outputs": [],
   "source": [
    "os.environ['GOOGLE_APPLICATION_CREDENTIALS'] = r\"E:\\Downloads\\Google Cloud Project\\Credentials.json\"\n",
    "client = storage.Client()\n",
    "\n",
    "bucket_name = \"eaglesdataml\"\n",
    "bucket = client.get_bucket(bucket_name)\n",
    "blob = bucket.blob(\"eagles/NN.sav\")\n",
    "blob.upload_from_filename(r\"E:\\Downloads\\Google Cloud Project\\NN.sav\")"
   ]
  },
  {
   "cell_type": "code",
   "execution_count": 192,
   "id": "b54d9e0f",
   "metadata": {},
   "outputs": [],
   "source": [
    "bucket_name = \"eaglesdataml\"\n",
    "bucket = client.get_bucket(bucket_name)\n",
    "blob = bucket.blob(\"eagles/scaler.sav\")\n",
    "blob.upload_from_filename(r\"E:\\Downloads\\Google Cloud Project\\scaler.sav\")"
   ]
  },
  {
   "cell_type": "code",
   "execution_count": 263,
   "id": "f069ee15",
   "metadata": {},
   "outputs": [],
   "source": [
    "def load_scikit_model(file_name):\n",
    "    bucket_name = \"eaglesdataml\"\n",
    "    source_blob = \"eagles/\" + file_name\n",
    "    \n",
    "    os.environ['GOOGLE_APPLICATION_CREDENTIALS'] = r\"E:\\Downloads\\Google Cloud Project\\Credentials.json\"\n",
    "    client = storage.Client()\n",
    "    \n",
    "    bucket = client.get_bucket(bucket_name)\n",
    "    blob = bucket.blob(source_blob)\n",
    "    \n",
    "    model_data = blob.download_as_bytes()\n",
    "    \n",
    "    model = joblib.load(BytesIO(model_data))\n",
    "    return(model)"
   ]
  },
  {
   "cell_type": "code",
   "execution_count": 264,
   "id": "cdbfeaad",
   "metadata": {},
   "outputs": [],
   "source": [
    "model = load_scikit_model(\"NN.sav\")\n",
    "preproc = load_scikit_model(\"scaler.sav\")"
   ]
  },
  {
   "cell_type": "code",
   "execution_count": 265,
   "id": "0bab47eb",
   "metadata": {},
   "outputs": [],
   "source": [
    "import warnings\n",
    "def eagles_win(request_dictionary):\n",
    "    try:\n",
    "        with warnings.catch_warnings():\n",
    "            warnings.simplefilter(\"ignore\", UserWarning)\n",
    "            model = load_scikit_model(\"NN.sav\")\n",
    "            preproc = load_scikit_model(\"scaler.sav\")\n",
    "    \n",
    "            dictionary = request_dictionary\n",
    "            for key, value in dictionary.items():\n",
    "                globals()[key] = value\n",
    "    \n",
    "            X = preproc.transform([[MOT, OTotYd, DTotYd, TmScore,Home_Games]])\n",
    "    \n",
    "            predictions = model.predict(X)[0]\n",
    "\n",
    "            probability = str(round(model.predict_proba(X)[0][1]*100,2))+\"%\"\n",
    "        \n",
    "            return(probability)\n",
    "    except:\n",
    "        return({\"status\": \"error\"})"
   ]
  },
  {
   "cell_type": "code",
   "execution_count": null,
   "id": "a3929d51",
   "metadata": {},
   "outputs": [],
   "source": [
    "import warnings\n",
    "import google\n",
    "import joblib\n",
    "import pandas as pd\n",
    "import requests\n",
    "import sklearn\n",
    "from urllib.parse import parse_qs\n",
    "from google.cloud import storage\n",
    "import os\n",
    "from io import BytesIO\n",
    "\n",
    "def load_scikit_model(file_name):\n",
    "    bucket_name = \"eaglesdataml\"\n",
    "    source_blob = \"eagles/\" + file_name\n",
    "\n",
    "    os.environ[\"GOOGLE_APPLICATION_CREDENTIALS\"] = \"Credentials.json\"\n",
    "    client = storage.Client()\n",
    "    print(\"Client Created\")\n",
    "    bucket = client.get_bucket(bucket_name)\n",
    "    blob = bucket.blob(source_blob)\n",
    "\n",
    "    model_data = blob.download_as_bytes()\n",
    "    model = joblib.load(BytesIO(model_data))\n",
    "    return model\n",
    "\n",
    "def eagles_win(request):\n",
    "    try:\n",
    "        with warnings.catch_warnings():\n",
    "            warnings.simplefilter(\"ignore\", UserWarning)\n",
    "            model = load_scikit_model(\"NN.sav\")\n",
    "            preproc = load_scikit_model(\"scaler.sav\")\n",
    "            print(\"Models Loaded properly\")\n",
    "            \n",
    "            q_str = request.get_data().decode()\n",
    "            dictionary = {k: v[0] for k, v in parse_qs(q_str).items()}\n",
    "            \n",
    "            for key, value in dictionary.items():\n",
    "                globals()[key] = value\n",
    "            print(\"Variables Set\")\n",
    "            \n",
    "            X = preproc.transform([[MOT, OTotYd, DTotYd, TmScore, Home_Games]])\n",
    "            print(\"Hello, please work\")\n",
    "            predictions = model.predict(X)[0]\n",
    "\n",
    "            probability = round(model.predict_proba(X)[0][1]*100, 2)\n",
    "            print(\"Probabilities Calculated\")\n",
    "            print(predictions)\n",
    "            print(probability)\n",
    "            return {\n",
    "                \"prediction\": int(predictions),\n",
    "                \"status\": 200, \n",
    "                \"prob_of_win\": f\"{probability}%\"\n",
    "            }\n",
    "    except Exception as e:\n",
    "        print(f\"An error occurred: {str(e)}\")\n",
    "        return {\"status\": \"error\", \"error_message\": str(e)}"
   ]
  },
  {
   "cell_type": "code",
   "execution_count": 267,
   "id": "2ff09d9e",
   "metadata": {},
   "outputs": [
    {
     "data": {
      "text/plain": [
       "'10.95%'"
      ]
     },
     "execution_count": 267,
     "metadata": {},
     "output_type": "execute_result"
    }
   ],
   "source": [
    "eagles_win({ 'MOT' : -3,\n",
    "                      'OTotYd' : 348,\n",
    "                      'DTotYd' : 244,\n",
    "                      'TmScore': 20, \n",
    "                      'Home_Games':0\n",
    "})"
   ]
  },
  {
   "cell_type": "code",
   "execution_count": 335,
   "id": "a7ed1060",
   "metadata": {},
   "outputs": [],
   "source": [
    "r = requests.post('https://us-west2-spring2024project-424621.cloudfunctions.net/EaglesMachLearn',\n",
    "                 {\"MOT\" : -3,\n",
    "                      \"OTotYd\" : 155,\n",
    "                      \"DTotYd\" : 175,\n",
    "                      \"TmScore\": 20, \n",
    "                      \"Home_Games\":1\n",
    "}) \n"
   ]
  },
  {
   "cell_type": "code",
   "execution_count": 336,
   "id": "8eb0c942",
   "metadata": {},
   "outputs": [
    {
     "data": {
      "text/plain": [
       "{'prediction': 0, 'prob_of_win': '1.45%', 'status': 200}"
      ]
     },
     "execution_count": 336,
     "metadata": {},
     "output_type": "execute_result"
    }
   ],
   "source": [
    "r.json()"
   ]
  },
  {
   "cell_type": "markdown",
   "id": "2786f9cf",
   "metadata": {},
   "source": [
    "## 3.b.) Make a user-friendly input page that takes the inputs to your ML model via widgets and displays the output. Upload a seperate .ipynb that makes this easy to use. (Next Assignment you will have tot urn this into a shareable webpage)."
   ]
  },
  {
   "cell_type": "code",
   "execution_count": 277,
   "id": "af31bbf3",
   "metadata": {},
   "outputs": [],
   "source": [
    "import ipywidgets as widgets\n",
    "from IPython.display import display"
   ]
  },
  {
   "cell_type": "code",
   "execution_count": 278,
   "id": "3801cb67",
   "metadata": {},
   "outputs": [],
   "source": [
    "r = requests.post('https://us-west2-spring2024project-424621.cloudfunctions.net/EaglesMachLearn',\n",
    "                 {\"MOT\" : -3,\n",
    "                      \"OTotYd\" : 348,\n",
    "                      \"DTotYd\" : 244,\n",
    "                      \"TmScore\": 20, \n",
    "                      \"Home_Games\":0\n",
    "}) "
   ]
  },
  {
   "cell_type": "code",
   "execution_count": 337,
   "id": "98eab9d5",
   "metadata": {},
   "outputs": [],
   "source": [
    "text_MOT = widgets.Text(\n",
    "    value = \"\",\n",
    "    placeholder = \"Turnover Margin?\",\n",
    "    description = \"Margin of Turnover\",\n",
    "    disabled = False\n",
    ")\n",
    "\n",
    "text_Otot = widgets.Text(\n",
    "    value = \"\",\n",
    "    placeholder = \"Total Yards Gained?\",\n",
    "    description = \"Total Yards Gained\",\n",
    "    disabled = False\n",
    ")\n",
    "\n",
    "text_Dtot = widgets.Text(\n",
    "    value = \"\",\n",
    "    placeholder = \"Total Yards Allowed?\",\n",
    "    description = \"Total Yards Allowed\",\n",
    "    disabled = False\n",
    ")\n",
    "\n",
    "text_Tms = widgets.Text(\n",
    "    value = \"\",\n",
    "    placeholder = \"Points Scored?\",\n",
    "    description = \"Points Scored\",\n",
    "    disabled = False\n",
    ")\n",
    "\n",
    "text_Home = widgets.Text(\n",
    "    value = \"\",\n",
    "    placeholder = \"Home Game? 1 for Yes, 0 for No\",\n",
    "    description = \"Home Game Identifier\",\n",
    "    disabled = False\n",
    ")\n",
    "\n",
    "button = widgets.Button(description = \"Enter\")\n",
    "\n",
    "def eagles_win_prediction(button):\n",
    " r = requests.post('https://us-west2-spring2024project-424621.cloudfunctions.net/EaglesMachLearn',\n",
    "                 {\"MOT\" : text_MOT.value,\n",
    "                      \"OTotYd\" : text_Otot.value,\n",
    "                      \"DTotYd\" : text_Dtot.value,\n",
    "                      \"TmScore\": text_Tms.value, \n",
    "                      \"Home_Games\":text_Home.value})  \n",
    " print(r.json())\n",
    "\n",
    "\n",
    "button.on_click(eagles_win_prediction)"
   ]
  },
  {
   "cell_type": "code",
   "execution_count": 334,
   "id": "1b45130b",
   "metadata": {},
   "outputs": [
    {
     "data": {
      "application/vnd.jupyter.widget-view+json": {
       "model_id": "a197169f0fc1431e9fffe747842e49a6",
       "version_major": 2,
       "version_minor": 0
      },
      "text/plain": [
       "Text(value='', description='Margin of Turnover', placeholder='Turnover Margin?')"
      ]
     },
     "metadata": {},
     "output_type": "display_data"
    },
    {
     "data": {
      "application/vnd.jupyter.widget-view+json": {
       "model_id": "3aafdc6afe5149599ffeb7bd0615fe9e",
       "version_major": 2,
       "version_minor": 0
      },
      "text/plain": [
       "Text(value='', description='Total Yards Gained', placeholder='Total Yards Gained?')"
      ]
     },
     "metadata": {},
     "output_type": "display_data"
    },
    {
     "data": {
      "application/vnd.jupyter.widget-view+json": {
       "model_id": "2509276b30584eeebd01bf5560116186",
       "version_major": 2,
       "version_minor": 0
      },
      "text/plain": [
       "Text(value='', description='Total Yards Allowed', placeholder='Total Yards Allowed?')"
      ]
     },
     "metadata": {},
     "output_type": "display_data"
    },
    {
     "data": {
      "application/vnd.jupyter.widget-view+json": {
       "model_id": "af61aa72c7794fca8efd637966076bde",
       "version_major": 2,
       "version_minor": 0
      },
      "text/plain": [
       "Text(value='', description='Points Scored', placeholder='Points Scored?')"
      ]
     },
     "metadata": {},
     "output_type": "display_data"
    },
    {
     "data": {
      "application/vnd.jupyter.widget-view+json": {
       "model_id": "6fd3fea3b6534c5d9e387149232b6d2a",
       "version_major": 2,
       "version_minor": 0
      },
      "text/plain": [
       "Text(value='', description='Home Game Identifier', placeholder='Home Game? 1 for Yes, 0 for No')"
      ]
     },
     "metadata": {},
     "output_type": "display_data"
    },
    {
     "data": {
      "application/vnd.jupyter.widget-view+json": {
       "model_id": "f9a49d6aa6114239af39f956a4aaa8f8",
       "version_major": 2,
       "version_minor": 0
      },
      "text/plain": [
       "Button(description='Enter', style=ButtonStyle())"
      ]
     },
     "metadata": {},
     "output_type": "display_data"
    },
    {
     "name": "stdout",
     "output_type": "stream",
     "text": [
      "{'prediction': 1, 'prob_of_win': '100.0%', 'status': 200}\n",
      "{'prediction': 1, 'prob_of_win': '99.19%', 'status': 200}\n",
      "{'prediction': 1, 'prob_of_win': '100.0%', 'status': 200}\n",
      "{'prediction': 1, 'prob_of_win': '99.86%', 'status': 200}\n",
      "{'prediction': 1, 'prob_of_win': '99.86%', 'status': 200}\n",
      "{'prediction': 0, 'prob_of_win': '1.45%', 'status': 200}\n"
     ]
    }
   ],
   "source": [
    "display(text_MOT)\n",
    "display(text_Otot)\n",
    "display(text_Dtot)\n",
    "display(text_Tms)\n",
    "display(text_Home)\n",
    "display(button)"
   ]
  },
  {
   "cell_type": "markdown",
   "id": "6bdb4720",
   "metadata": {},
   "source": [
    "## 3.c.) Think of a company that would use the ML app you just built. What employees could use this app what would they use it for? Write a short paragraph."
   ]
  },
  {
   "cell_type": "markdown",
   "id": "0c7d0622",
   "metadata": {},
   "source": [
    "Maybe ESPN wants a quick way to output some form of predictive data, or maybe whatever broadcast is showing a prediction of who will win as the game goes on automates the algorithm to run every minute or so (after a play). Now they can show predictive analytics of who will win the game while the game is running. This has multiple effects and can be used in a variety of ways, whether they aid the quality of the broadcast and the commentators or something a little more insidious in betting and half-time parlays and so on. This could mainly be used by individuals who work in sports analytics and visualization or even betting sites. It really depends, and it can be used a wide host of subjects"
   ]
  }
 ],
 "metadata": {
  "kernelspec": {
   "display_name": "Python 3 (ipykernel)",
   "language": "python",
   "name": "python3"
  },
  "language_info": {
   "codemirror_mode": {
    "name": "ipython",
    "version": 3
   },
   "file_extension": ".py",
   "mimetype": "text/x-python",
   "name": "python",
   "nbconvert_exporter": "python",
   "pygments_lexer": "ipython3",
   "version": "3.11.4"
  }
 },
 "nbformat": 4,
 "nbformat_minor": 5
}
