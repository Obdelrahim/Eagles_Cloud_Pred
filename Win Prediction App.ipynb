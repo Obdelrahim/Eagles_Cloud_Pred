{
 "cells": [
  {
   "cell_type": "markdown",
   "id": "3d7eeb07",
   "metadata": {},
   "source": [
    "# Eagles Dub Predictor"
   ]
  },
  {
   "cell_type": "code",
   "execution_count": 2,
   "id": "b3fa9fda",
   "metadata": {},
   "outputs": [
    {
     "data": {
      "application/vnd.jupyter.widget-view+json": {
       "model_id": "1598f2d499f1414a83f65a34d2074ab2",
       "version_major": 2,
       "version_minor": 0
      },
      "text/plain": [
       "Text(value='', description='Margin of Turnover', placeholder='Turnover Margin?')"
      ]
     },
     "metadata": {},
     "output_type": "display_data"
    },
    {
     "data": {
      "application/vnd.jupyter.widget-view+json": {
       "model_id": "c9aa8e38db5049aca1625f5749b2a067",
       "version_major": 2,
       "version_minor": 0
      },
      "text/plain": [
       "Text(value='', description='Total Yards Gained', placeholder='Total Yards Gained?')"
      ]
     },
     "metadata": {},
     "output_type": "display_data"
    },
    {
     "data": {
      "application/vnd.jupyter.widget-view+json": {
       "model_id": "594cb21ae9bf456b9422380d0c0fbb82",
       "version_major": 2,
       "version_minor": 0
      },
      "text/plain": [
       "Text(value='', description='Total Yards Allowed', placeholder='Total Yards Allowed?')"
      ]
     },
     "metadata": {},
     "output_type": "display_data"
    },
    {
     "data": {
      "application/vnd.jupyter.widget-view+json": {
       "model_id": "ff2440cf04ef4bf283f5ff85c7b5313d",
       "version_major": 2,
       "version_minor": 0
      },
      "text/plain": [
       "Text(value='', description='Points Scored', placeholder='Points Scored?')"
      ]
     },
     "metadata": {},
     "output_type": "display_data"
    },
    {
     "data": {
      "application/vnd.jupyter.widget-view+json": {
       "model_id": "9d4254158ae349f196cf3b48fdfba730",
       "version_major": 2,
       "version_minor": 0
      },
      "text/plain": [
       "Text(value='', description='Home Game Identifier', placeholder='Home Game? 1 for Yes, 0 for No')"
      ]
     },
     "metadata": {},
     "output_type": "display_data"
    },
    {
     "data": {
      "application/vnd.jupyter.widget-view+json": {
       "model_id": "de39a50a90cf48bba06ed77575e2e57e",
       "version_major": 2,
       "version_minor": 0
      },
      "text/plain": [
       "Button(description='Enter', style=ButtonStyle())"
      ]
     },
     "metadata": {},
     "output_type": "display_data"
    },
    {
     "name": "stdout",
     "output_type": "stream",
     "text": [
      "{'prediction': 1, 'prob_of_win': '100.0%', 'status': 200}\n",
      "{'prediction': 1, 'prob_of_win': '100.0%', 'status': 200}\n",
      "{'prediction': 1, 'prob_of_win': '99.86%', 'status': 200}\n",
      "{'prediction': 1, 'prob_of_win': '93.92%', 'status': 200}\n",
      "{'prediction': 0, 'prob_of_win': '30.99%', 'status': 200}\n",
      "{'prediction': 1, 'prob_of_win': '99.69%', 'status': 200}\n",
      "{'prediction': 1, 'prob_of_win': '96.75%', 'status': 200}\n",
      "{'prediction': 0, 'prob_of_win': '0.61%', 'status': 200}\n",
      "{'prediction': 0, 'prob_of_win': '0.06%', 'status': 200}\n"
     ]
    }
   ],
   "source": [
    "# Click here and press Ctrl+Enter\n",
    "%run Widget.ipynb"
   ]
  }
 ],
 "metadata": {
  "kernelspec": {
   "display_name": "Python 3 (ipykernel)",
   "language": "python",
   "name": "python3"
  },
  "language_info": {
   "codemirror_mode": {
    "name": "ipython",
    "version": 3
   },
   "file_extension": ".py",
   "mimetype": "text/x-python",
   "name": "python",
   "nbconvert_exporter": "python",
   "pygments_lexer": "ipython3",
   "version": "3.11.4"
  }
 },
 "nbformat": 4,
 "nbformat_minor": 5
}
