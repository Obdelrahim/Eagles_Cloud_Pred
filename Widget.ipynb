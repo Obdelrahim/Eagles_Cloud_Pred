{
 "cells": [
  {
   "cell_type": "code",
   "execution_count": 6,
   "id": "0dd62aaf",
   "metadata": {},
   "outputs": [],
   "source": [
    "import ipywidgets as widgets\n",
    "from IPython.display import display\n",
    "import requests"
   ]
  },
  {
   "cell_type": "code",
   "execution_count": 8,
   "id": "0eac7a18",
   "metadata": {},
   "outputs": [],
   "source": [
    "text_MOT = widgets.Text(\n",
    "    value = \"\",\n",
    "    placeholder = \"Turnover Margin?\",\n",
    "    description = \"Margin of Turnover\",\n",
    "    disabled = False\n",
    ")\n",
    "\n",
    "text_Otot = widgets.Text(\n",
    "    value = \"\",\n",
    "    placeholder = \"Total Yards Gained?\",\n",
    "    description = \"Total Yards Gained\",\n",
    "    disabled = False\n",
    ")\n",
    "\n",
    "text_Dtot = widgets.Text(\n",
    "    value = \"\",\n",
    "    placeholder = \"Total Yards Allowed?\",\n",
    "    description = \"Total Yards Allowed\",\n",
    "    disabled = False\n",
    ")\n",
    "\n",
    "text_Tms = widgets.Text(\n",
    "    value = \"\",\n",
    "    placeholder = \"Points Scored?\",\n",
    "    description = \"Points Scored\",\n",
    "    disabled = False\n",
    ")\n",
    "\n",
    "text_Home = widgets.Text(\n",
    "    value = \"\",\n",
    "    placeholder = \"Home Game? 1 for Yes, 0 for No\",\n",
    "    description = \"Home Game Identifier\",\n",
    "    disabled = False\n",
    ")\n",
    "\n",
    "button = widgets.Button(description = \"Enter\")\n",
    "\n",
    "def eagles_win_prediction(button):\n",
    " r = requests.post('https://us-west2-spring2024project-424621.cloudfunctions.net/EaglesMachLearn',\n",
    "                 {\"MOT\" : text_MOT.value,\n",
    "                      \"OTotYd\" : text_Otot.value,\n",
    "                      \"DTotYd\" : text_Dtot.value,\n",
    "                      \"TmScore\": text_Tms.value, \n",
    "                      \"Home_Games\":text_Home.value})  \n",
    " print(r.json())\n",
    "\n",
    "\n",
    "button.on_click(eagles_win_prediction)"
   ]
  },
  {
   "cell_type": "code",
   "execution_count": 9,
   "id": "832119d9",
   "metadata": {},
   "outputs": [
    {
     "data": {
      "application/vnd.jupyter.widget-view+json": {
       "model_id": "7753abf04d454964b5c1265d329ffb26",
       "version_major": 2,
       "version_minor": 0
      },
      "text/plain": [
       "Text(value='', description='Margin of Turnover', placeholder='Turnover Margin?')"
      ]
     },
     "metadata": {},
     "output_type": "display_data"
    },
    {
     "data": {
      "application/vnd.jupyter.widget-view+json": {
       "model_id": "59bb7f96ecbb4f2585b238d257b2e70b",
       "version_major": 2,
       "version_minor": 0
      },
      "text/plain": [
       "Text(value='', description='Total Yards Gained', placeholder='Total Yards Gained?')"
      ]
     },
     "metadata": {},
     "output_type": "display_data"
    },
    {
     "data": {
      "application/vnd.jupyter.widget-view+json": {
       "model_id": "96bc1b00149b4617a81dbbd3a8a84f18",
       "version_major": 2,
       "version_minor": 0
      },
      "text/plain": [
       "Text(value='', description='Total Yards Allowed', placeholder='Total Yards Allowed?')"
      ]
     },
     "metadata": {},
     "output_type": "display_data"
    },
    {
     "data": {
      "application/vnd.jupyter.widget-view+json": {
       "model_id": "d7bb7bb270c64659a6eb017a37afb0ee",
       "version_major": 2,
       "version_minor": 0
      },
      "text/plain": [
       "Text(value='', description='Points Scored', placeholder='Points Scored?')"
      ]
     },
     "metadata": {},
     "output_type": "display_data"
    },
    {
     "data": {
      "application/vnd.jupyter.widget-view+json": {
       "model_id": "1d6dea26f5aa482bb0887f15132db789",
       "version_major": 2,
       "version_minor": 0
      },
      "text/plain": [
       "Text(value='', description='Home Game Identifier', placeholder='Home Game? 1 for Yes, 0 for No')"
      ]
     },
     "metadata": {},
     "output_type": "display_data"
    },
    {
     "data": {
      "application/vnd.jupyter.widget-view+json": {
       "model_id": "e8ff1d1b08e44486888198c9c0d8ad83",
       "version_major": 2,
       "version_minor": 0
      },
      "text/plain": [
       "Button(description='Enter', style=ButtonStyle())"
      ]
     },
     "metadata": {},
     "output_type": "display_data"
    },
    {
     "name": "stdout",
     "output_type": "stream",
     "text": [
      "{'prediction': 1, 'prob_of_win': '100.0%', 'status': 200}\n"
     ]
    }
   ],
   "source": [
    "display(text_MOT)\n",
    "display(text_Otot)\n",
    "display(text_Dtot)\n",
    "display(text_Tms)\n",
    "display(text_Home)\n",
    "display(button)"
   ]
  }
 ],
 "metadata": {
  "kernelspec": {
   "display_name": "Python 3 (ipykernel)",
   "language": "python",
   "name": "python3"
  },
  "language_info": {
   "codemirror_mode": {
    "name": "ipython",
    "version": 3
   },
   "file_extension": ".py",
   "mimetype": "text/x-python",
   "name": "python",
   "nbconvert_exporter": "python",
   "pygments_lexer": "ipython3",
   "version": "3.11.4"
  }
 },
 "nbformat": 4,
 "nbformat_minor": 5
}
